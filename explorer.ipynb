{
 "metadata": {
  "language_info": {
   "codemirror_mode": {
    "name": "ipython",
    "version": 3
   },
   "file_extension": ".py",
   "mimetype": "text/x-python",
   "name": "python",
   "nbconvert_exporter": "python",
   "pygments_lexer": "ipython3",
   "version": "3.7.7-final"
  },
  "orig_nbformat": 2,
  "kernelspec": {
   "name": "python3",
   "display_name": "Python 3",
   "language": "python"
  }
 },
 "nbformat": 4,
 "nbformat_minor": 2,
 "cells": [
  {
   "cell_type": "code",
   "execution_count": 2,
   "metadata": {},
   "outputs": [],
   "source": [
    "\n",
    "import numpy as np\n",
    "import matplotlib.pyplot as plt\n",
    "import seaborn as sns\n",
    "\n",
    "from sklearn.datasets import fetch_openml\n",
    "from sklearn.decomposition import PCA\n",
    "import umap"
   ]
  },
  {
   "cell_type": "code",
   "execution_count": 9,
   "metadata": {},
   "outputs": [],
   "source": [
    "from osgeo import gdal"
   ]
  },
  {
   "cell_type": "code",
   "execution_count": 7,
   "metadata": {},
   "outputs": [
    {
     "output_type": "stream",
     "name": "stdout",
     "text": [
      "4\n"
     ]
    }
   ],
   "source": [
    "s2 = gdal.Open(\"data/2018-01-01.tif\")\n",
    "\n",
    "print(s2.RasterCount)"
   ]
  },
  {
   "cell_type": "code",
   "execution_count": 33,
   "metadata": {},
   "outputs": [
    {
     "output_type": "stream",
     "name": "stdout",
     "text": [
      "(1048576, 2)\n"
     ]
    }
   ],
   "source": [
    "array1 = np.array([np.array(s2.GetRasterBand(1).ReadAsArray()).flatten(), np.array(s2.GetRasterBand(2).ReadAsArray()).flatten()])\n",
    "print(array1.T.shape)\n",
    "\n",
    "\n"
   ]
  },
  {
   "cell_type": "code",
   "execution_count": 14,
   "metadata": {},
   "outputs": [],
   "source": [
    "from osgeo import gdal\n",
    "import numpy as np\n",
    "\n",
    "def get_tif_as_array(path):\n",
    "    s2 = gdal.Open(path)\n",
    "    arr = []\n",
    "    for i in range(1,s2.RasterCount+1):\n",
    "        arr.append(np.array(s2.GetRasterBand(i).ReadAsArray()).flatten())\n",
    "\n",
    "    return np.array(arr).T\n",
    "\n"
   ]
  },
  {
   "cell_type": "code",
   "execution_count": 20,
   "metadata": {},
   "outputs": [
    {
     "output_type": "stream",
     "name": "stdout",
     "text": [
      "(1048576, 30)\n"
     ]
    }
   ],
   "source": [
    "arr1 = get_tif_as_array(\"data/1311_3077_13_2018_01.tif\")\n",
    "arr2 = get_tif_as_array(\"data/2018-01-01.tif\")\n",
    "arr3 = get_tif_as_array(\"data/2018-01-07.tif\")\n",
    "arr4 = get_tif_as_array(\"data/2018-01-14.tif\")\n",
    "arr5 = get_tif_as_array(\"data/2018-01-21.tif\")\n",
    "arr6 = get_tif_as_array(\"data/2018-01-28.tif\")\n",
    "\n",
    "\n",
    "stacked = np.hstack([arr1, arr2, arr3, arr4, arr5, arr6])\n",
    "\n"
   ]
  },
  {
   "cell_type": "code",
   "execution_count": null,
   "metadata": {},
   "outputs": [],
   "source": []
  }
 ]
}